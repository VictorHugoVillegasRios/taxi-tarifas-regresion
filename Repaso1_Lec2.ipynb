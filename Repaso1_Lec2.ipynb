{
 "cells": [
  {
   "cell_type": "code",
   "execution_count": 1,
   "id": "ac685135-927f-4249-b3d6-98930a50a199",
   "metadata": {},
   "outputs": [
    {
     "data": {
      "text/plain": [
       "False"
      ]
     },
     "execution_count": 1,
     "metadata": {},
     "output_type": "execute_result"
    }
   ],
   "source": [
    "# python puede evaluar sentencias, danto resultados de false or true\n",
    "5 == 4"
   ]
  },
  {
   "cell_type": "code",
   "execution_count": 7,
   "id": "f4b83270-ba52-4303-b544-b7a623918a4c",
   "metadata": {},
   "outputs": [
    {
     "data": {
      "text/plain": [
       "10"
      ]
     },
     "execution_count": 7,
     "metadata": {},
     "output_type": "execute_result"
    }
   ],
   "source": [
    "edad =10\n",
    "edad"
   ]
  },
  {
   "cell_type": "code",
   "execution_count": 3,
   "id": "bc3ac170-ed25-4d1c-af91-88885007b7b0",
   "metadata": {},
   "outputs": [
    {
     "data": {
      "text/plain": [
       "True"
      ]
     },
     "execution_count": 3,
     "metadata": {},
     "output_type": "execute_result"
    }
   ],
   "source": [
    "10*3 == edad\n"
   ]
  },
  {
   "cell_type": "code",
   "execution_count": 8,
   "id": "8272872c-dcc9-46d3-8205-a538f28fbe2f",
   "metadata": {},
   "outputs": [
    {
     "name": "stdout",
     "output_type": "stream",
     "text": [
      "es menor de edad!!\n"
     ]
    }
   ],
   "source": [
    "# declaracion condicional\n",
    "if edad >= 18:\n",
    "    print (\"es un adulto!\")\n",
    "else:\n",
    "    print (\"es menor de edad!!\")           \n",
    "    "
   ]
  },
  {
   "cell_type": "code",
   "execution_count": 9,
   "id": "0e45663d-28de-499f-8e34-49719fa08906",
   "metadata": {},
   "outputs": [
    {
     "name": "stdout",
     "output_type": "stream",
     "text": [
      "1\n",
      "2\n",
      "3\n",
      "4\n",
      "6\n"
     ]
    }
   ],
   "source": [
    "# loop\n",
    "for numero in [1,2,3,4,6]:\n",
    "    print(numero)\n"
   ]
  },
  {
   "cell_type": "code",
   "execution_count": 10,
   "id": "3ce31366-100b-40ff-99e2-c0e06e194861",
   "metadata": {},
   "outputs": [
    {
     "name": "stdout",
     "output_type": "stream",
     "text": [
      "1.3333333333333333\n",
      "2.0\n",
      "2.3333333333333335\n",
      "3.0\n"
     ]
    }
   ],
   "source": [
    "# loop\n",
    "lista = [4,6,7,9]\n",
    "for x in lista:\n",
    "    print (x/3)\n"
   ]
  },
  {
   "cell_type": "code",
   "execution_count": 14,
   "id": "56468ad2-59f3-4e04-aafb-2a7dcf4cc127",
   "metadata": {},
   "outputs": [],
   "source": [
    "# funciones\n",
    "def es_adulto(edad):\n",
    "    if edad >= 18:\n",
    "        print(\"Es un adulto!!!\")\n",
    "    else:\n",
    "        print(\"Es menor de edad!!!\")    "
   ]
  },
  {
   "cell_type": "code",
   "execution_count": 16,
   "id": "8290bfeb-1501-4c3b-833d-58a31b335143",
   "metadata": {},
   "outputs": [
    {
     "name": "stdout",
     "output_type": "stream",
     "text": [
      "Es menor de edad!!!\n"
     ]
    }
   ],
   "source": [
    "# debo llamar a la funcion para que siga el proceso\n",
    "es_adulto(15)"
   ]
  },
  {
   "cell_type": "code",
   "execution_count": 17,
   "id": "3c5a7ffa-3af5-443b-bf96-38798931b8c6",
   "metadata": {},
   "outputs": [
    {
     "data": {
      "text/plain": [
       "[5, 10, 20, 25]"
      ]
     },
     "execution_count": 17,
     "metadata": {},
     "output_type": "execute_result"
    }
   ],
   "source": [
    "# uso de una funcion, en este caso la funcion: sorted\n",
    "nueva_lista=[20,25,10,5]\n",
    "sorted(nueva_lista)\n"
   ]
  },
  {
   "cell_type": "code",
   "execution_count": null,
   "id": "5861c58b-6636-4b3d-a980-d059884224e3",
   "metadata": {},
   "outputs": [],
   "source": []
  }
 ],
 "metadata": {
  "kernelspec": {
   "display_name": "Python 3 (ipykernel)",
   "language": "python",
   "name": "python3"
  },
  "language_info": {
   "codemirror_mode": {
    "name": "ipython",
    "version": 3
   },
   "file_extension": ".py",
   "mimetype": "text/x-python",
   "name": "python",
   "nbconvert_exporter": "python",
   "pygments_lexer": "ipython3",
   "version": "3.11.8"
  }
 },
 "nbformat": 4,
 "nbformat_minor": 5
}
