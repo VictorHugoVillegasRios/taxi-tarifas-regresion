{
 "cells": [
  {
   "cell_type": "code",
   "execution_count": 5,
   "id": "8cdc94da-b126-48d6-ac8e-2d0dc36760ac",
   "metadata": {},
   "outputs": [
    {
     "name": "stdout",
     "output_type": "stream",
     "text": [
      "el numero impreso es:, x= 0\n",
      "el numero impreso es:, x= 1\n",
      "el numero impreso es:, x= 2\n",
      "el numero impreso es:, x= 3\n",
      "el numero impreso es:, x= 4\n",
      "el numero impreso es:, x= 5\n",
      "el numero impreso es:, x= 6\n",
      "el numero impreso es:, x= 7\n",
      "el numero impreso es:, x= 8\n",
      "finalizado el proceso while\n"
     ]
    }
   ],
   "source": [
    "x=0\n",
    "while x < 9:\n",
    "    print(\"el numero impreso es:, x= \" + str(x))\n",
    "    x=x+1\n",
    "else:\n",
    "    print(\"finalizado el proceso while\")"
   ]
  },
  {
   "cell_type": "code",
   "execution_count": 6,
   "id": "704c50f7-f7fe-4e4b-ab3e-bdca5ceb79e7",
   "metadata": {},
   "outputs": [
    {
     "name": "stdout",
     "output_type": "stream",
     "text": [
      "¡Bienvenido al juego de adivinanza de números!\n",
      "Tienes 7 intentos para adivinar el número secreto entre 1 y 100.\n"
     ]
    },
    {
     "name": "stdin",
     "output_type": "stream",
     "text": [
      "Ingresa tu adivinanza:  45\n"
     ]
    },
    {
     "name": "stdout",
     "output_type": "stream",
     "text": [
      "El número secreto es menor. Inténtalo de nuevo.\n"
     ]
    },
    {
     "name": "stdin",
     "output_type": "stream",
     "text": [
      "Ingresa tu adivinanza:  30\n"
     ]
    },
    {
     "name": "stdout",
     "output_type": "stream",
     "text": [
      "El número secreto es menor. Inténtalo de nuevo.\n"
     ]
    },
    {
     "name": "stdin",
     "output_type": "stream",
     "text": [
      "Ingresa tu adivinanza:  12\n"
     ]
    },
    {
     "name": "stdout",
     "output_type": "stream",
     "text": [
      "El número secreto es mayor. Inténtalo de nuevo.\n"
     ]
    },
    {
     "name": "stdin",
     "output_type": "stream",
     "text": [
      "Ingresa tu adivinanza:  18\n"
     ]
    },
    {
     "name": "stdout",
     "output_type": "stream",
     "text": [
      "El número secreto es mayor. Inténtalo de nuevo.\n"
     ]
    },
    {
     "name": "stdin",
     "output_type": "stream",
     "text": [
      "Ingresa tu adivinanza:  20\n"
     ]
    },
    {
     "name": "stdout",
     "output_type": "stream",
     "text": [
      "El número secreto es menor. Inténtalo de nuevo.\n"
     ]
    },
    {
     "name": "stdin",
     "output_type": "stream",
     "text": [
      "Ingresa tu adivinanza:  19\n"
     ]
    },
    {
     "name": "stdout",
     "output_type": "stream",
     "text": [
      "¡Felicidades! Adivinaste el número secreto (19) en 6 intentos.\n",
      "Gracias por jugar.\n"
     ]
    }
   ],
   "source": [
    "import random\n",
    "\n",
    "# Generar un número aleatorio entre 1 y 100\n",
    "numero_secreto = random.randint(1, 100)\n",
    "intentos = 0\n",
    "max_intentos = 7\n",
    "\n",
    "print(\"¡Bienvenido al juego de adivinanza de números!\")\n",
    "print(\"Tienes 7 intentos para adivinar el número secreto entre 1 y 100.\")\n",
    "\n",
    "while intentos < max_intentos:\n",
    "    # Solicitar al jugador que ingrese un número\n",
    "    adivinanza = int(input(\"Ingresa tu adivinanza: \"))\n",
    "    intentos += 1\n",
    "    \n",
    "    # Comprobar si la adivinanza es correcta\n",
    "    if adivinanza == numero_secreto:\n",
    "        print(f\"¡Felicidades! Adivinaste el número secreto ({numero_secreto}) en {intentos} intentos.\")\n",
    "        break\n",
    "    elif adivinanza < numero_secreto:\n",
    "        print(\"El número secreto es mayor. Inténtalo de nuevo.\")\n",
    "    else:\n",
    "        print(\"El número secreto es menor. Inténtalo de nuevo.\")\n",
    "else:\n",
    "    print(f\"Lo siento, has agotado tus {max_intentos} intentos. El número secreto era {numero_secreto}.\")\n",
    "\n",
    "print(\"Gracias por jugar.\")\n"
   ]
  },
  {
   "cell_type": "code",
   "execution_count": null,
   "id": "8c638a84-faeb-444f-85cf-2386d8e2622b",
   "metadata": {},
   "outputs": [],
   "source": []
  }
 ],
 "metadata": {
  "kernelspec": {
   "display_name": "Python 3 (ipykernel)",
   "language": "python",
   "name": "python3"
  },
  "language_info": {
   "codemirror_mode": {
    "name": "ipython",
    "version": 3
   },
   "file_extension": ".py",
   "mimetype": "text/x-python",
   "name": "python",
   "nbconvert_exporter": "python",
   "pygments_lexer": "ipython3",
   "version": "3.11.8"
  }
 },
 "nbformat": 4,
 "nbformat_minor": 5
}
