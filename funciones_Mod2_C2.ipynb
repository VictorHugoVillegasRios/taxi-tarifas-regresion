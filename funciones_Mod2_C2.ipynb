{
 "cells": [
  {
   "cell_type": "code",
   "execution_count": 1,
   "id": "48fce087-6e2d-4a1f-82e1-d3e0f396916c",
   "metadata": {},
   "outputs": [
    {
     "name": "stdout",
     "output_type": "stream",
     "text": [
      "Victor\n"
     ]
    }
   ],
   "source": [
    "# la funcion print() \n",
    "print(\"Victor\")\n"
   ]
  },
  {
   "cell_type": "code",
   "execution_count": 2,
   "id": "05e1d06a-6725-4860-b019-b1d6f25502c3",
   "metadata": {},
   "outputs": [
    {
     "data": {
      "text/plain": [
       "int"
      ]
     },
     "execution_count": 2,
     "metadata": {},
     "output_type": "execute_result"
    }
   ],
   "source": [
    "# la funcion type() retorna an object s data type\n",
    "numero=43\n",
    "type(numero)"
   ]
  },
  {
   "cell_type": "code",
   "execution_count": 3,
   "id": "7bd60fb9-3643-4e1d-ae8a-95b8a1f3cdc8",
   "metadata": {},
   "outputs": [
    {
     "data": {
      "text/plain": [
       "str"
      ]
     },
     "execution_count": 3,
     "metadata": {},
     "output_type": "execute_result"
    }
   ],
   "source": [
    "numero=str(numero)\n",
    "type(numero)"
   ]
  },
  {
   "cell_type": "code",
   "execution_count": 4,
   "id": "6b819c75-9450-402f-b461-26952991b6b7",
   "metadata": {},
   "outputs": [
    {
     "name": "stdout",
     "output_type": "stream",
     "text": [
      "Welcome Victor!!!\n",
      "You are part of the team\n"
     ]
    }
   ],
   "source": [
    "def mi_funcion(name):\n",
    "    print('Welcome ' + name + '!!!')\n",
    "    print(\"You are part of the team\")\n",
    "\n",
    "mi_funcion(\"Victor\")\n"
   ]
  },
  {
   "cell_type": "code",
   "execution_count": 10,
   "id": "d4534f55-daa2-4f8e-9577-e22c35f47ec0",
   "metadata": {},
   "outputs": [
    {
     "name": "stdout",
     "output_type": "stream",
     "text": [
      "Hello Victor tu numero de suerte es: 20\n",
      "Hello Nino tu numero de suerte es: 20\n"
     ]
    }
   ],
   "source": [
    "name=\"Victor\"\n",
    "number=len(\"name\")*5\n",
    "print(\"Hello \" + name + \" tu numero de suerte es: \" + str(number))\n",
    "\n",
    "name=\"Nino\"\n",
    "number=len(\"name\")*5\n",
    "print(\"Hello \" + name + \" tu numero de suerte es: \" + str(number))\n",
    "\n"
   ]
  },
  {
   "cell_type": "code",
   "execution_count": 5,
   "id": "fc52d3ef-09df-4b5f-ade7-2142cf6f5db4",
   "metadata": {},
   "outputs": [
    {
     "data": {
      "text/plain": [
       "60320"
      ]
     },
     "execution_count": 5,
     "metadata": {},
     "output_type": "execute_result"
    }
   ],
   "source": [
    "# definiendo una funcion\n",
    "def total_seg(horas,minutos,segundos):\n",
    "    total=3600*horas+60*minutos+segundos\n",
    "    return total\n",
    "total_seg(16,45,20)"
   ]
  },
  {
   "cell_type": "code",
   "execution_count": null,
   "id": "31633483-e9ef-4242-a9b0-0a6ecc977d91",
   "metadata": {},
   "outputs": [],
   "source": []
  }
 ],
 "metadata": {
  "kernelspec": {
   "display_name": "Python 3 (ipykernel)",
   "language": "python",
   "name": "python3"
  },
  "language_info": {
   "codemirror_mode": {
    "name": "ipython",
    "version": 3
   },
   "file_extension": ".py",
   "mimetype": "text/x-python",
   "name": "python",
   "nbconvert_exporter": "python",
   "pygments_lexer": "ipython3",
   "version": "3.11.8"
  }
 },
 "nbformat": 4,
 "nbformat_minor": 5
}
