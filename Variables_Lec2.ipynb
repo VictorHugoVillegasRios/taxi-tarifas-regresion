{
 "cells": [
  {
   "cell_type": "code",
   "execution_count": 1,
   "id": "1e402b59-edb6-4ba2-94fe-0122e1482b87",
   "metadata": {},
   "outputs": [
    {
     "data": {
      "text/plain": [
       "67"
      ]
     },
     "execution_count": 1,
     "metadata": {},
     "output_type": "execute_result"
    }
   ],
   "source": [
    "lista_edades = [54,66,43,22,67]\n",
    "max(lista_edades)"
   ]
  },
  {
   "cell_type": "code",
   "execution_count": 10,
   "id": "03d2cec9-4d54-4e16-a29f-9fec76ad29d4",
   "metadata": {},
   "outputs": [
    {
     "data": {
      "text/plain": [
       "67"
      ]
     },
     "execution_count": 10,
     "metadata": {},
     "output_type": "execute_result"
    }
   ],
   "source": [
    "maxima= max(lista_edades)\n",
    "maxima\n"
   ]
  },
  {
   "cell_type": "code",
   "execution_count": 11,
   "id": "fa2e0432-812b-40ea-91b4-0e1c19b24b5f",
   "metadata": {},
   "outputs": [
    {
     "data": {
      "text/plain": [
       "67"
      ]
     },
     "execution_count": 11,
     "metadata": {},
     "output_type": "execute_result"
    }
   ],
   "source": [
    "maxima\n"
   ]
  },
  {
   "cell_type": "code",
   "execution_count": 8,
   "id": "a4048408-0fb7-4364-b17f-0d51391fcf67",
   "metadata": {},
   "outputs": [
    {
     "data": {
      "text/plain": [
       "'asdfasdf'"
      ]
     },
     "execution_count": 8,
     "metadata": {},
     "output_type": "execute_result"
    }
   ],
   "source": [
    "maxima = \"asdfasdf\"\n",
    "maxima\n"
   ]
  },
  {
   "cell_type": "code",
   "execution_count": 9,
   "id": "13d0b68d-1de5-4556-a6f9-b08dcae3cef0",
   "metadata": {},
   "outputs": [
    {
     "data": {
      "text/plain": [
       "'asdfasdf'"
      ]
     },
     "execution_count": 9,
     "metadata": {},
     "output_type": "execute_result"
    }
   ],
   "source": [
    "maxima"
   ]
  },
  {
   "cell_type": "code",
   "execution_count": 12,
   "id": "21364ebe-fa0a-4d43-8bc4-933501a09301",
   "metadata": {},
   "outputs": [
    {
     "data": {
      "text/plain": [
       "67"
      ]
     },
     "execution_count": 12,
     "metadata": {},
     "output_type": "execute_result"
    }
   ],
   "source": [
    "maxima"
   ]
  },
  {
   "cell_type": "code",
   "execution_count": null,
   "id": "cbe32b73-9225-43cc-b226-72d85d1da431",
   "metadata": {},
   "outputs": [],
   "source": [
    "# reglas ortograficas y gramaticales que seguir, es decir su sintaxis de Python\n",
    "# palabras claves no puedo usar: for, in, if, for, else, etx. NO DEBO USAR PARA NOMBRAR VAR\n",
    "# tampoco utilizar nombres de funciones, por que igual son reservadas: print, max, min, str, etc.\n",
    "# nombres de var: Lista_alumnos, edades_alumnos.  SIN ESPACIOS, TABULACIONES, $, Y CARACT ESPECIALES () [] &\n",
    "# Python distingue entre may y min. No debo empezar un nombre de var con numero. \n",
    "# buenas pociones p nombre de var: any_a_variables, any_a_Varibles_4\n"
   ]
  },
  {
   "cell_type": "code",
   "execution_count": 3,
   "id": "d41a8215-7aa8-477f-b006-40a755b42165",
   "metadata": {},
   "outputs": [
    {
     "data": {
      "text/plain": [
       "int"
      ]
     },
     "execution_count": 3,
     "metadata": {},
     "output_type": "execute_result"
    }
   ],
   "source": [
    "type (9)"
   ]
  },
  {
   "cell_type": "code",
   "execution_count": 4,
   "id": "466f9c66-5bf7-4b84-b76c-f38f8318dd06",
   "metadata": {},
   "outputs": [
    {
     "name": "stdout",
     "output_type": "stream",
     "text": [
      "7.7\n"
     ]
    }
   ],
   "source": [
    "print (1+6.7)\n"
   ]
  },
  {
   "cell_type": "code",
   "execution_count": null,
   "id": "7520adfb-6066-425e-b7c5-2dc9876fc1fc",
   "metadata": {},
   "outputs": [],
   "source": []
  }
 ],
 "metadata": {
  "kernelspec": {
   "display_name": "Python 3 (ipykernel)",
   "language": "python",
   "name": "python3"
  },
  "language_info": {
   "codemirror_mode": {
    "name": "ipython",
    "version": 3
   },
   "file_extension": ".py",
   "mimetype": "text/x-python",
   "name": "python",
   "nbconvert_exporter": "python",
   "pygments_lexer": "ipython3",
   "version": "3.11.8"
  }
 },
 "nbformat": 4,
 "nbformat_minor": 5
}
