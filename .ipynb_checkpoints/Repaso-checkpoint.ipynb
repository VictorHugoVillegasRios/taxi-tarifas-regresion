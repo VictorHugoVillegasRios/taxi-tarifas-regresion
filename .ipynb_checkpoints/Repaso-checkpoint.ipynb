{
 "cells": [
  {
   "cell_type": "markdown",
   "id": "479dec14-fa0b-445c-9ca7-e9b917401b65",
   "metadata": {},
   "source": [
    "### Esto es un ejercicio"
   ]
  },
  {
   "cell_type": "code",
   "execution_count": 2,
   "id": "8575f3a8-cf6e-4a73-b61e-676e2a40d124",
   "metadata": {},
   "outputs": [
    {
     "name": "stdout",
     "output_type": "stream",
     "text": [
      "holaabbbaa mundo\n"
     ]
    }
   ],
   "source": [
    "print (\"holaabbbaa mundo\")"
   ]
  },
  {
   "cell_type": "code",
   "execution_count": 3,
   "id": "245814a8-e881-4b70-a352-b1b8b39be9da",
   "metadata": {},
   "outputs": [
    {
     "name": "stdout",
     "output_type": "stream",
     "text": [
      "Media: 2030.0\n",
      "Desviación Estándar: 3995.0219023179334\n"
     ]
    }
   ],
   "source": [
    "# Lista de números\n",
    "datos = [10, 10020, 30, 40, 50]\n",
    "\n",
    "# Calcular la media\n",
    "suma = 0\n",
    "for numero in datos:\n",
    "    suma += numero\n",
    "media = suma / len(datos)\n",
    "\n",
    "# Calcular la desviación estándar\n",
    "suma_diferencias = 0\n",
    "for numero in datos:\n",
    "    suma_diferencias += (numero - media) ** 2\n",
    "desviacion_estandar = (suma_diferencias / len(datos)) ** 0.5\n",
    "\n",
    "# Imprimir resultados\n",
    "print(\"Media:\", media)\n",
    "print(\"Desviación Estándar:\", desviacion_estandar)\n",
    "\n"
   ]
  },
  {
   "cell_type": "code",
   "execution_count": 8,
   "id": "9356c724-2dc5-4668-b956-cd2b92395d50",
   "metadata": {},
   "outputs": [
    {
     "name": "stdout",
     "output_type": "stream",
     "text": [
      "9\n",
      "victor, villegas\n"
     ]
    }
   ],
   "source": [
    "var = 3 + 6\n",
    "var1 = \"victor, villegas\"\n",
    "var2= var\n",
    "print (var2)\n",
    "print (var1)"
   ]
  },
  {
   "cell_type": "code",
   "execution_count": 11,
   "id": "2117fcff-2a34-4760-a4e9-5b79785880ea",
   "metadata": {},
   "outputs": [
    {
     "name": "stdout",
     "output_type": "stream",
     "text": [
      "victor villegas\n",
      "miriam\n",
      "los strings tambien pueden definirse con ''\n"
     ]
    }
   ],
   "source": [
    "var1 =\"victor villegas\"\n",
    "var2= 'miriam'\n",
    "var3 = \"los strings tambien pueden definirse con ''\"\n",
    "print (var1)\n",
    "print (var2)\n",
    "print (var3)"
   ]
  },
  {
   "cell_type": "code",
   "execution_count": 18,
   "id": "822a29a5-429b-456e-8155-bd33ffb4b733",
   "metadata": {},
   "outputs": [
    {
     "data": {
      "text/plain": [
       "'g'"
      ]
     },
     "execution_count": 18,
     "metadata": {},
     "output_type": "execute_result"
    }
   ],
   "source": [
    "# indexacion, comienza en 0 y se indexa mediante los []\n",
    "nombre = \"Santiago\"\n",
    "nombre[2] # voy de izq a derecho, comienza en 1\n",
    "nombre[-2] # voy de der a izq, comienza en -1"
   ]
  },
  {
   "cell_type": "code",
   "execution_count": 20,
   "id": "cfd01ee2-77c8-4970-ba42-9534c6c117f9",
   "metadata": {},
   "outputs": [
    {
     "data": {
      "text/plain": [
       "'San'"
      ]
     },
     "execution_count": 20,
     "metadata": {},
     "output_type": "execute_result"
    }
   ],
   "source": [
    "# Slicing, que extrae una cadena de texto, a esto llamo slicing \n",
    "nombre = \"Santiago\"\n",
    "nombre[0:3]"
   ]
  },
  {
   "cell_type": "code",
   "execution_count": 27,
   "id": "91ff9025-f425-4e31-b36d-3686d96bf7a8",
   "metadata": {},
   "outputs": [
    {
     "data": {
      "text/plain": [
       "'Santiag'"
      ]
     },
     "execution_count": 27,
     "metadata": {},
     "output_type": "execute_result"
    }
   ],
   "source": [
    "# Slicing, que extrae una cadena de texto, a esto llamo slicing \n",
    "nombre = \"Santiago\"\n",
    "nombre[-8:-1]"
   ]
  },
  {
   "cell_type": "code",
   "execution_count": 28,
   "id": "54fbabca-c520-48a8-812b-a596d70fbfc7",
   "metadata": {},
   "outputs": [
    {
     "data": {
      "text/plain": [
       "'Santiago'"
      ]
     },
     "execution_count": 28,
     "metadata": {},
     "output_type": "execute_result"
    }
   ],
   "source": [
    "# Slicing, que extrae una cadena de texto, a esto llamo slicing. Para leer hasta el final \n",
    "nombre = \"Santiago\"\n",
    "nombre[-8:]"
   ]
  },
  {
   "cell_type": "code",
   "execution_count": 34,
   "id": "be23b638-b0ff-4d64-9aab-52e7bda0f9d0",
   "metadata": {},
   "outputs": [
    {
     "data": {
      "text/plain": [
       "'VcoVlea'"
      ]
     },
     "execution_count": 34,
     "metadata": {},
     "output_type": "execute_result"
    }
   ],
   "source": [
    "# Stride, variante del slicing, se añade un : adicional y un tercer indice, que indica cuantos caracteres saltar hasta obtener el siguiente caracter\n",
    "nombre = \"VictorVillegas\"\n",
    "nombre[0:15:2]"
   ]
  },
  {
   "cell_type": "code",
   "execution_count": 35,
   "id": "651bf0f3-9377-4920-a9fe-3b737d8fe05a",
   "metadata": {},
   "outputs": [
    {
     "name": "stdout",
     "output_type": "stream",
     "text": [
      "Victor\n",
      "Hugo\n",
      "Villegasa\n",
      "Rios\n"
     ]
    }
   ],
   "source": [
    "# una vez definido mediante una var un String es inmutable. Pero puedo reasignar esa variable\n",
    "\n",
    "# definir un String de multiples lineas:\n",
    "nombre = \"Victor\\nHugo\\nVillegasa\\nRios\"\n",
    "print (nombre)"
   ]
  },
  {
   "cell_type": "code",
   "execution_count": 39,
   "id": "3ec34676-a314-474c-b4f0-bdd969722db4",
   "metadata": {},
   "outputs": [
    {
     "name": "stdout",
     "output_type": "stream",
     "text": [
      "Victor \n",
      "Villegas\n",
      "Rios\n",
      "\n"
     ]
    }
   ],
   "source": [
    "# otra forma de definir String en varias lineas\n",
    "nombre1 = \"\"\"Victor \n",
    "Villegas\n",
    "Rios\n",
    "\"\"\"\n",
    "print(nombre1)"
   ]
  },
  {
   "cell_type": "code",
   "execution_count": 1,
   "id": "9ed58cb0-419b-47a8-8f69-57ff22b028a1",
   "metadata": {},
   "outputs": [
    {
     "data": {
      "text/plain": [
       "3"
      ]
     },
     "execution_count": 1,
     "metadata": {},
     "output_type": "execute_result"
    }
   ],
   "source": [
    "# tema 7 Numeros\n",
    "num = 3\n",
    "num\n"
   ]
  },
  {
   "cell_type": "code",
   "execution_count": 2,
   "id": "08a25efd-d34f-455e-8185-77070b8b6931",
   "metadata": {},
   "outputs": [
    {
     "data": {
      "text/plain": [
       "1000000"
      ]
     },
     "execution_count": 2,
     "metadata": {},
     "output_type": "execute_result"
    }
   ],
   "source": [
    "# separar miles en python, no puedo usar . para separar los miles\n",
    "num = 1000000\n",
    "# solo para leer en el codigo, se puede poner _ abajo\n",
    "num1= 1_000_000\n",
    "num1"
   ]
  },
  {
   "cell_type": "code",
   "execution_count": 3,
   "id": "8cbef0a5-72fe-4738-9569-a8439d640877",
   "metadata": {},
   "outputs": [
    {
     "data": {
      "text/plain": [
       "16.6"
      ]
     },
     "execution_count": 3,
     "metadata": {},
     "output_type": "execute_result"
    }
   ],
   "source": [
    "# numeros decimales, se denominan float\n",
    "num = 16.6\n",
    "num"
   ]
  },
  {
   "cell_type": "code",
   "execution_count": 4,
   "id": "530b4ed5-fa8c-4f71-97a9-859df2760f6f",
   "metadata": {},
   "outputs": [
    {
     "data": {
      "text/plain": [
       "1000000.0"
      ]
     },
     "execution_count": 4,
     "metadata": {},
     "output_type": "execute_result"
    }
   ],
   "source": [
    "num = 1e6\n",
    "num"
   ]
  },
  {
   "cell_type": "code",
   "execution_count": null,
   "id": "1c043d14-2b7c-4811-864e-111e297f5d9a",
   "metadata": {},
   "outputs": [],
   "source": [
    "# numeros complejos, para estadisticas o machine learning"
   ]
  },
  {
   "cell_type": "code",
   "execution_count": 5,
   "id": "aafe7bee-5d5d-4790-8b25-a740b8714bf7",
   "metadata": {},
   "outputs": [
    {
     "data": {
      "text/plain": [
       "5"
      ]
     },
     "execution_count": 5,
     "metadata": {},
     "output_type": "execute_result"
    }
   ],
   "source": [
    "# Comentarios (8). SOLO COMENTARIOS RELEVANTES, NO SATURAR EL CODIGO, COMENTARIOS LO MAS CORTOS POSIBLE\n",
    "# esto es un comentario1\n",
    "\"\"\"\n",
    "victor \n",
    "hugo\n",
    "villegas\n",
    "\"\"\"\n",
    "num = 5\n",
    "num"
   ]
  },
  {
   "cell_type": "code",
   "execution_count": null,
   "id": "cbae6622-ca0e-44f8-95bd-3d7f20feba14",
   "metadata": {},
   "outputs": [],
   "source": [
    "# Importante, los comentarios no confundir con los DOCSTRINGS, que es la manera de documentar una funcion en Python"
   ]
  },
  {
   "cell_type": "code",
   "execution_count": null,
   "id": "d59cc646-f0f5-462c-8714-894e42f474c4",
   "metadata": {},
   "outputs": [],
   "source": [
    "# Funciones (9), Una funcion va a consistir en un bloque de codigo que encapsulan una tarea especifica o un grupo de tareas relacionadas.\n",
    "# Las funciones permiten dividir programas complejos en fragmentos mas pequeños y modulares\n"
   ]
  },
  {
   "cell_type": "code",
   "execution_count": 7,
   "id": "87c9231c-29a2-4470-a094-df258374cc0d",
   "metadata": {},
   "outputs": [
    {
     "data": {
      "text/plain": [
       "14"
      ]
     },
     "execution_count": 7,
     "metadata": {},
     "output_type": "execute_result"
    }
   ],
   "source": [
    "var = \"VictorVillegas\"\n",
    "len(var)\n"
   ]
  },
  {
   "cell_type": "code",
   "execution_count": 8,
   "id": "15f778d0-4325-45c7-8b5b-87e12567e3a1",
   "metadata": {},
   "outputs": [
    {
     "data": {
      "text/plain": [
       "14"
      ]
     },
     "execution_count": 8,
     "metadata": {},
     "output_type": "execute_result"
    }
   ],
   "source": [
    "asig_len_var=len(var) \n",
    "asig_len_var"
   ]
  },
  {
   "cell_type": "code",
   "execution_count": null,
   "id": "104b2bfe-fc68-4a37-a813-dc146e42ab31",
   "metadata": {},
   "outputs": [],
   "source": [
    "# para ver lo que hace una determinada funcion en Python, escribir la funcion entre () y al centro de los () poner el cursor, pulsar Tab+Shift + tab (flechitas)\n",
    "# ahi vemos el docstrings, como se dijo para documentar una funcion\n",
    "len()"
   ]
  },
  {
   "cell_type": "code",
   "execution_count": 11,
   "id": "7e332c27-4b44-4e42-b968-19dadbf55472",
   "metadata": {},
   "outputs": [
    {
     "name": "stdout",
     "output_type": "stream",
     "text": [
      "6\n",
      "7\n"
     ]
    }
   ],
   "source": [
    "# funciones personalizadas (10)\n",
    "def mi_funcion(arg1, arg2):\n",
    "    print(arg1)\n",
    "    print(arg2)\n",
    "\n",
    "mi_funcion (6,7)\n",
    "\n",
    "    "
   ]
  },
  {
   "cell_type": "code",
   "execution_count": 14,
   "id": "133abd74-e884-4228-a7fb-e864192e2d08",
   "metadata": {},
   "outputs": [
    {
     "name": "stdout",
     "output_type": "stream",
     "text": [
      "1\n",
      "Victor\n",
      "Villegas\n",
      "Rios\n"
     ]
    }
   ],
   "source": [
    "print(1)\n",
    "mi_funcion(\"Victor\", \"Villegas\")\n",
    "print(\"Rios\")"
   ]
  },
  {
   "cell_type": "code",
   "execution_count": 16,
   "id": "fbfae5c6-76b0-40a2-b56f-d1436acb1860",
   "metadata": {},
   "outputs": [
    {
     "name": "stdout",
     "output_type": "stream",
     "text": [
      "mi nombre es:\n",
      "Victor Villegas\n"
     ]
    }
   ],
   "source": [
    "# una funcion sin parametros, que tambien se pone los ()\n",
    "def mi_funcion1():\n",
    "    print (\"mi nombre es:\")\n",
    "    print (\"Victor Villegas\")\n",
    "\n",
    "mi_funcion1()\n",
    "\n"
   ]
  },
  {
   "cell_type": "code",
   "execution_count": 20,
   "id": "0f65a79a-0349-4779-be4c-6fd6c72ce209",
   "metadata": {},
   "outputs": [
    {
     "name": "stdout",
     "output_type": "stream",
     "text": [
      "Sentencia 1 fuera de la funcion\n",
      "Sentencia 1 dentro de la funcion\n",
      "Sentencia 2 fuera de la funcion\n"
     ]
    }
   ],
   "source": [
    "# Sentencia Return (FUNCION). Cuando ejecuto esta funcion Return el interprete termina inmediatamente la ejecucion de la funcion y regresa\n",
    "# a la linea de codigo desde donde la hubiesemos invocado\n",
    "def mi_funcion2():\n",
    "    print(\"Sentencia 1 dentro de la funcion\")\n",
    "    return\n",
    "    print(\"Sentencia 2 dentro de la funion\")\n",
    "print(\"Sentencia 1 fuera de la funcion\")\n",
    "mi_funcion2()\n",
    "print(\"Sentencia 2 fuera de la funcion\")"
   ]
  },
  {
   "cell_type": "code",
   "execution_count": 22,
   "id": "dd8eb163-fcf3-438d-944f-ab55207dda4a",
   "metadata": {},
   "outputs": [
    {
     "name": "stdout",
     "output_type": "stream",
     "text": [
      "holaaaaa...\n"
     ]
    }
   ],
   "source": [
    "# Docstrings (!2)\n",
    "# Almohadilla para Comentarios, \"\"\" para docstrings, por lo general. Se conoce docstrings de la funcion.\n",
    "# Puede contener el proposito de la funcion, los argumentos que toma, informacion de valors de retorno u otra informacion util\n",
    "def mi_funcion2():\n",
    "    \"\"\"Esto se vera como mi docstrings cuando use el Shift + tab\"\"\"\n",
    "    print(\"holaaaaa...\")\n",
    "\n",
    "mi_funcion2()\n"
   ]
  },
  {
   "cell_type": "code",
   "execution_count": 23,
   "id": "ceebae5c-4a73-47c3-9e3e-b83801f3583b",
   "metadata": {},
   "outputs": [
    {
     "name": "stdout",
     "output_type": "stream",
     "text": [
      "4.5\n",
      "6.7\n"
     ]
    }
   ],
   "source": [
    "def mi_funcion3(arg1=0.0, arg2=0.0):\n",
    "    \"\"\"\" Esto es una funcion para demostrar que es un docstrings\n",
    "\n",
    "    Keys arguments:\n",
    "    arg1 -- primer argumento de la funcion (por defecto 0.0)\n",
    "    arg2 -- segundo argumento de la funcion (por defecto 0.0)\n",
    "    \"\"\"\n",
    "    print(arg1)\n",
    "    print(arg2)\n",
    "\n",
    "mi_funcion3(4.5,6.7)"
   ]
  },
  {
   "cell_type": "code",
   "execution_count": 24,
   "id": "d5878648-d63d-4f7f-9f8e-d10702a9f356",
   "metadata": {},
   "outputs": [
    {
     "name": "stdout",
     "output_type": "stream",
     "text": [
      "Welcome to Python 3.11's help utility! If this is your first time using\n",
      "Python, you should definitely check out the tutorial at\n",
      "https://docs.python.org/3.11/tutorial/.\n",
      "\n",
      "Enter the name of any module, keyword, or topic to get help on writing\n",
      "Python programs and using Python modules.  To get a list of available\n",
      "modules, keywords, symbols, or topics, enter \"modules\", \"keywords\",\n",
      "\"symbols\", or \"topics\".\n",
      "\n",
      "Each module also comes with a one-line summary of what it does; to list\n",
      "the modules whose name or summary contain a given string such as \"spam\",\n",
      "enter \"modules spam\".\n",
      "\n",
      "To quit this help utility and return to the interpreter,\n",
      "enter \"q\" or \"quit\".\n",
      "\n"
     ]
    },
    {
     "name": "stdout",
     "output_type": "stream",
     "text": [
      "help>  sum\n"
     ]
    },
    {
     "name": "stdout",
     "output_type": "stream",
     "text": [
      "Help on built-in function sum in module builtins:\n",
      "\n",
      "sum(iterable, /, start=0)\n",
      "    Return the sum of a 'start' value (default: 0) plus an iterable of numbers\n",
      "    \n",
      "    When the iterable is empty, return the start value.\n",
      "    This function is intended specifically for use with numeric values and may\n",
      "    reject non-numeric types.\n",
      "\n"
     ]
    },
    {
     "name": "stdout",
     "output_type": "stream",
     "text": [
      "help>  len\n"
     ]
    },
    {
     "name": "stdout",
     "output_type": "stream",
     "text": [
      "Help on built-in function len in module builtins:\n",
      "\n",
      "len(obj, /)\n",
      "    Return the number of items in a container.\n",
      "\n",
      "\n",
      "You are now leaving help and returning to the Python interpreter.\n",
      "If you want to ask for help on a particular object directly from the\n",
      "interpreter, you can type \"help(object)\".  Executing \"help('string')\"\n",
      "has the same effect as typing a particular string at the help> prompt.\n"
     ]
    }
   ],
   "source": [
    "# Funciones propias de Python\n",
    "help()"
   ]
  },
  {
   "cell_type": "code",
   "execution_count": null,
   "id": "e98fb0cc-e90d-4690-86c8-e58b1338f45a",
   "metadata": {},
   "outputs": [],
   "source": []
  }
 ],
 "metadata": {
  "kernelspec": {
   "display_name": "base",
   "language": "python",
   "name": "python3"
  },
  "language_info": {
   "codemirror_mode": {
    "name": "ipython",
    "version": 3
   },
   "file_extension": ".py",
   "mimetype": "text/x-python",
   "name": "python",
   "nbconvert_exporter": "python",
   "pygments_lexer": "ipython3",
   "version": "3.11.5"
  }
 },
 "nbformat": 4,
 "nbformat_minor": 5
}
