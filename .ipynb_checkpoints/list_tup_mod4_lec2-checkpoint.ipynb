{
 "cells": [
  {
   "cell_type": "code",
   "execution_count": 1,
   "id": "7fae5741-2eaf-4e9e-a530-545ada3e8f7f",
   "metadata": {},
   "outputs": [
    {
     "name": "stdout",
     "output_type": "stream",
     "text": [
      "Lista de frutas actualizada:\n",
      "manzana\n",
      "kiwi\n",
      "mango\n",
      "naranja\n"
     ]
    }
   ],
   "source": [
    "#LIST\n",
    "# Crear una lista de frutas\n",
    "frutas = [\"manzana\", \"banana\", \"cereza\", \"mango\"]\n",
    "\n",
    "# Añadir un nuevo elemento a la lista\n",
    "frutas.append(\"naranja\")\n",
    "\n",
    "# Modificar un elemento de la lista\n",
    "frutas[1] = \"kiwi\"\n",
    "\n",
    "# Eliminar un elemento de la lista\n",
    "frutas.remove(\"cereza\")\n",
    "\n",
    "# Imprimir la lista actualizada\n",
    "print(\"Lista de frutas actualizada:\")\n",
    "for fruta in frutas:\n",
    "    print(fruta)\n"
   ]
  },
  {
   "cell_type": "code",
   "execution_count": 2,
   "id": "597a27b7-86c9-4567-9cdd-511a1817542c",
   "metadata": {},
   "outputs": [
    {
     "name": "stdout",
     "output_type": "stream",
     "text": [
      "Primer fruta: manzana\n",
      "Última fruta: mango\n",
      "Error: 'tuple' object does not support item assignment\n",
      "Tupla de frutas:\n",
      "manzana\n",
      "banana\n",
      "cereza\n",
      "mango\n"
     ]
    },
    {
     "data": {
      "text/plain": [
       "'\\nDiferencias entre Listas y Tuplas\\nMutabilidad:\\n\\nListas: Las listas son mutables, lo que significa que puedes modificar, añadir o eliminar elementos después de haber creado la lista.\\n\\nTuplas: Las tuplas son inmutables, lo que significa que no puedes modificar, añadir o eliminar elementos después de haber creado la tupla.\\n\\nSintaxis:\\n\\nListas: Se definen utilizando corchetes [].\\n\\nTuplas: Se definen utilizando paréntesis ().\\n\\nUso:\\n\\nListas: Se utilizan cuando necesitas una colección de elementos que puede cambiar a lo largo del tiempo, como una lista de tareas pendientes o una lista de elementos en un carrito de compras.\\n\\nTuplas: Se utilizan cuando necesitas una colección de elementos que no cambiará, como coordenadas (x, y) o los días de la semana.\\n\\nRendimiento:\\n\\nTuplas: Debido a que son inmutables, las tuplas pueden ser más rápidas y consumir menos memoria que las listas en ciertas situaciones.\\n'"
      ]
     },
     "execution_count": 2,
     "metadata": {},
     "output_type": "execute_result"
    }
   ],
   "source": [
    "# TUPLA\n",
    "# Crear una tupla de frutas\n",
    "frutas_tupla = (\"manzana\", \"banana\", \"cereza\", \"mango\")\n",
    "\n",
    "# Acceder a elementos de la tupla\n",
    "print(\"Primer fruta:\", frutas_tupla[0])\n",
    "print(\"Última fruta:\", frutas_tupla[-1])\n",
    "\n",
    "# Intentar modificar un elemento de la tupla (esto generará un error)\n",
    "try:\n",
    "    frutas_tupla[1] = \"kiwi\"\n",
    "except TypeError as e:\n",
    "    print(f\"Error: {e}\")\n",
    "\n",
    "# Imprimir la tupla\n",
    "print(\"Tupla de frutas:\")\n",
    "for fruta in frutas_tupla:\n",
    "    print(fruta)\n",
    "\"\"\"\n",
    "Diferencias entre Listas y Tuplas\n",
    "Mutabilidad:\n",
    "\n",
    "Listas: Las listas son mutables, lo que significa que puedes modificar, añadir o eliminar elementos después de haber creado la lista.\n",
    "\n",
    "Tuplas: Las tuplas son inmutables, lo que significa que no puedes modificar, añadir o eliminar elementos después de haber creado la tupla.\n",
    "\n",
    "Sintaxis:\n",
    "\n",
    "Listas: Se definen utilizando corchetes [].\n",
    "\n",
    "Tuplas: Se definen utilizando paréntesis ().\n",
    "\n",
    "Uso:\n",
    "\n",
    "Listas: Se utilizan cuando necesitas una colección de elementos que puede cambiar a lo largo del tiempo, como una lista de tareas pendientes o una lista de elementos en un carrito de compras.\n",
    "\n",
    "Tuplas: Se utilizan cuando necesitas una colección de elementos que no cambiará, como coordenadas (x, y) o los días de la semana.\n",
    "\n",
    "Rendimiento:\n",
    "\n",
    "Tuplas: Debido a que son inmutables, las tuplas pueden ser más rápidas y consumir menos memoria que las listas en ciertas situaciones.\n",
    "\"\"\"\n"
   ]
  },
  {
   "cell_type": "code",
   "execution_count": null,
   "id": "573ca669-8772-449e-9c03-3a2eb337528a",
   "metadata": {},
   "outputs": [],
   "source": []
  }
 ],
 "metadata": {
  "kernelspec": {
   "display_name": "Python 3 (ipykernel)",
   "language": "python",
   "name": "python3"
  },
  "language_info": {
   "codemirror_mode": {
    "name": "ipython",
    "version": 3
   },
   "file_extension": ".py",
   "mimetype": "text/x-python",
   "name": "python",
   "nbconvert_exporter": "python",
   "pygments_lexer": "ipython3",
   "version": "3.11.8"
  }
 },
 "nbformat": 4,
 "nbformat_minor": 5
}
