{
 "cells": [
  {
   "cell_type": "markdown",
   "id": "5834d2e6-9d18-46da-84d7-afb360213f79",
   "metadata": {},
   "source": [
    "# Proyecto de Ciencia de Datos\n",
    "\n",
    "**Autor:** Victor Hugo Villegas  \n",
    "**Nombre del proyecto:** Google Advanced Data Analysis: HR Capstone Dataset  \n",
    "**Fecha:** 08 de mayo de 2025  \n",
    "**Descripción:** Análisis exploratorio y modelado predictivo para identificar factores clave en la rotación de empleados dentro de la empresa Salifort Motors.  \n"
   ]
  },
  {
   "cell_type": "markdown",
   "id": "59fcdc54-f881-4f42-b574-5865be6426d4",
   "metadata": {},
   "source": [
    "### 1. Importación de librerías y paquetes\n",
    "\n",
    "Este apartado contiene todas las bibliotecas necesarias para el análisis de datos, visualización y modelado predictivo.\n",
    "\n",
    "---\n"
   ]
  },
  {
   "cell_type": "markdown",
   "id": "07c55080-3d08-412c-8baa-d2f17d1b2a07",
   "metadata": {},
   "source": [
    "### 📊 Manipulación de Datos\n",
    "\n",
    "Estas librerías permiten la gestión y transformación de datos, facilitando su análisis y preprocesamiento.  \n",
    "- **NumPy**: Para cálculos matemáticos y manejo de arrays eficientes.  \n",
    "- **Pandas**: Para la manipulación y análisis de datos en estructuras como DataFrames y Series.  \n",
    "\n",
    "```python\n",
    "import numpy as np\n",
    "import pandas as pd\n"
   ]
  },
  {
   "cell_type": "markdown",
   "id": "114864d8-98ec-4a89-b5af-289a3bea12ec",
   "metadata": {},
   "source": [
    "### 📈 Visualización de Datos\n",
    "\n",
    "Estas librerías ayudan a generar gráficos y representaciones visuales del dataset, facilitando su interpretación.  \n",
    "- **Matplotlib**: Proporciona herramientas básicas de visualización con gráficos estáticos.  \n",
    "- **Seaborn**: Extensión de Matplotlib que permite visualizaciones más detalladas y estilizadas.  \n",
    "\n",
    "```python\n",
    "import matplotlib.pyplot as plt\n",
    "import seaborn as sns\n"
   ]
  },
  {
   "cell_type": "markdown",
   "id": "6fe16d16-2cad-45e7-b051-6e470f159bcc",
   "metadata": {},
   "source": [
    "### ⚙️ Configuración de DataFrames\n",
    "\n",
    "Esta configuración permite visualizar todas las columnas del DataFrame sin restricciones, facilitando el análisis exploratorio y evitando que se oculten datos importantes.\n",
    "\n",
    "```python\n",
    "pd.set_option('display.max_columns', None)\n"
   ]
  },
  {
   "cell_type": "markdown",
   "id": "4b41822e-35c2-4ff3-a8fb-74197b813c8c",
   "metadata": {},
   "source": [
    "### 🤖 Modelado de Datos\n",
    "\n",
    "Estas librerías se utilizan para construir y evaluar modelos de aprendizaje supervisado que permitirán predecir la rotación de empleados.  \n",
    "- **XGBoost**: Algoritmo basado en árboles de decisión, eficiente para problemas de clasificación y regresión.  \n",
    "- **Regresión Logística**: Modelo estadístico usado para clasificación binaria.  \n",
    "- **Árboles de Decisión**: Técnica de clasificación basada en reglas.  \n",
    "- **Bosques Aleatorios**: Conjunto de árboles de decisión que mejora la precisión del modelo.  \n",
    "\n",
    "```python\n",
    "from xgboost import XGBClassifier, XGBRegressor, plot_importance\n",
    "from sklearn.linear_model import LogisticRegression\n",
    "from sklearn.tree import DecisionTreeClassifier, plot_tree\n",
    "from sklearn.ensemble import RandomForestClassifier\n"
   ]
  },
  {
   "cell_type": "markdown",
   "id": "5efcc5e1-ff98-4754-b84f-99651ed76d10",
   "metadata": {},
   "source": [
    "### 📏 Métricas y Evaluación\n",
    "\n",
    "Estas funciones permiten medir el rendimiento de los modelos y evaluar su precisión, asegurando una selección óptima.  \n",
    "- **GridSearchCV**: Método para optimizar hiperparámetros mediante validación cruzada.  \n",
    "- **Train-Test Split**: Divide los datos en conjuntos de entrenamiento y prueba.  \n",
    "- **Métricas de clasificación**: Incluyen precisión, recall, F1-score y AUC-ROC para evaluar el rendimiento del modelo.  \n",
    "\n",
    "```python\n",
    "from sklearn.model_selection import GridSearchCV, train_test_split\n",
    "from sklearn.metrics import (accuracy_score, precision_score, recall_score, \n",
    "                             f1_score, confusion_matrix, ConfusionMatrixDisplay, \n",
    "                             classification_report, roc_auc_score, roc_curve)\n"
   ]
  },
  {
   "cell_type": "markdown",
   "id": "5474f774-6a93-4a9a-9c17-8115ee043847",
   "metadata": {},
   "source": [
    "### 💾 Guardado de Modelos\n",
    "\n",
    "Estas herramientas permiten almacenar los modelos entrenados para su uso posterior sin necesidad de volver a entrenarlos.  \n",
    "- **Pickle**: Biblioteca para serializar y deserializar objetos de Python, facilitando la conservación de modelos entrenados.  \n",
    "\n",
    "```python\n",
    "import pickle\n"
   ]
  },
  {
   "cell_type": "markdown",
   "id": "11eaab9a-4dbe-421f-876d-d544b447e5fc",
   "metadata": {},
   "source": [
    "### Cargar el Dataset y Visualizaciones Preliminares\n",
    "\n",
    "En esta sección, se carga el dataset y se realizan las primeras exploraciones de los datos. Se examinan las dimensiones, tipos de variables y valores faltantes para entender la estructura del dataset antes del análisis profundo.\n",
    "\n",
    "---\n"
   ]
  },
  {
   "cell_type": "code",
   "execution_count": 11,
   "id": "5e6cac38-4ac4-46d7-b3a2-df751c28032e",
   "metadata": {},
   "outputs": [
    {
     "name": "stdout",
     "output_type": "stream",
     "text": [
      "Primeras 5 filas del dataset:\n"
     ]
    },
    {
     "data": {
      "text/html": [
       "<div>\n",
       "<style scoped>\n",
       "    .dataframe tbody tr th:only-of-type {\n",
       "        vertical-align: middle;\n",
       "    }\n",
       "\n",
       "    .dataframe tbody tr th {\n",
       "        vertical-align: top;\n",
       "    }\n",
       "\n",
       "    .dataframe thead th {\n",
       "        text-align: right;\n",
       "    }\n",
       "</style>\n",
       "<table border=\"1\" class=\"dataframe\">\n",
       "  <thead>\n",
       "    <tr style=\"text-align: right;\">\n",
       "      <th></th>\n",
       "      <th>satisfaction_level</th>\n",
       "      <th>last_evaluation</th>\n",
       "      <th>number_project</th>\n",
       "      <th>average_montly_hours</th>\n",
       "      <th>time_spend_company</th>\n",
       "      <th>Work_accident</th>\n",
       "      <th>left</th>\n",
       "      <th>promotion_last_5years</th>\n",
       "      <th>Department</th>\n",
       "      <th>salary</th>\n",
       "    </tr>\n",
       "  </thead>\n",
       "  <tbody>\n",
       "    <tr>\n",
       "      <th>0</th>\n",
       "      <td>0.38</td>\n",
       "      <td>0.53</td>\n",
       "      <td>2</td>\n",
       "      <td>157</td>\n",
       "      <td>3</td>\n",
       "      <td>0</td>\n",
       "      <td>1</td>\n",
       "      <td>0</td>\n",
       "      <td>sales</td>\n",
       "      <td>low</td>\n",
       "    </tr>\n",
       "    <tr>\n",
       "      <th>1</th>\n",
       "      <td>0.80</td>\n",
       "      <td>0.86</td>\n",
       "      <td>5</td>\n",
       "      <td>262</td>\n",
       "      <td>6</td>\n",
       "      <td>0</td>\n",
       "      <td>1</td>\n",
       "      <td>0</td>\n",
       "      <td>sales</td>\n",
       "      <td>medium</td>\n",
       "    </tr>\n",
       "    <tr>\n",
       "      <th>2</th>\n",
       "      <td>0.11</td>\n",
       "      <td>0.88</td>\n",
       "      <td>7</td>\n",
       "      <td>272</td>\n",
       "      <td>4</td>\n",
       "      <td>0</td>\n",
       "      <td>1</td>\n",
       "      <td>0</td>\n",
       "      <td>sales</td>\n",
       "      <td>medium</td>\n",
       "    </tr>\n",
       "    <tr>\n",
       "      <th>3</th>\n",
       "      <td>0.72</td>\n",
       "      <td>0.87</td>\n",
       "      <td>5</td>\n",
       "      <td>223</td>\n",
       "      <td>5</td>\n",
       "      <td>0</td>\n",
       "      <td>1</td>\n",
       "      <td>0</td>\n",
       "      <td>sales</td>\n",
       "      <td>low</td>\n",
       "    </tr>\n",
       "    <tr>\n",
       "      <th>4</th>\n",
       "      <td>0.37</td>\n",
       "      <td>0.52</td>\n",
       "      <td>2</td>\n",
       "      <td>159</td>\n",
       "      <td>3</td>\n",
       "      <td>0</td>\n",
       "      <td>1</td>\n",
       "      <td>0</td>\n",
       "      <td>sales</td>\n",
       "      <td>low</td>\n",
       "    </tr>\n",
       "  </tbody>\n",
       "</table>\n",
       "</div>"
      ],
      "text/plain": [
       "   satisfaction_level  last_evaluation  number_project  average_montly_hours  \\\n",
       "0                0.38             0.53               2                   157   \n",
       "1                0.80             0.86               5                   262   \n",
       "2                0.11             0.88               7                   272   \n",
       "3                0.72             0.87               5                   223   \n",
       "4                0.37             0.52               2                   159   \n",
       "\n",
       "   time_spend_company  Work_accident  left  promotion_last_5years Department  \\\n",
       "0                   3              0     1                      0      sales   \n",
       "1                   6              0     1                      0      sales   \n",
       "2                   4              0     1                      0      sales   \n",
       "3                   5              0     1                      0      sales   \n",
       "4                   3              0     1                      0      sales   \n",
       "\n",
       "   salary  \n",
       "0     low  \n",
       "1  medium  \n",
       "2  medium  \n",
       "3     low  \n",
       "4     low  "
      ]
     },
     "execution_count": 11,
     "metadata": {},
     "output_type": "execute_result"
    }
   ],
   "source": [
    "# Ruta del archivo\n",
    "file_path = 'C:/Users/victo/OneDrive/Data_Science/Python/HR_capstone_dataset.csv'\n",
    "\n",
    "# Cargar el dataset\n",
    "df = pd.read_csv(file_path)\n",
    "\n",
    "# Ver las primeras filas\n",
    "print(\"Primeras 5 filas del dataset:\")\n",
    "df.head()"
   ]
  },
  {
   "cell_type": "code",
   "execution_count": 12,
   "id": "82d589d0-3164-4c95-8f22-c0348c836e44",
   "metadata": {},
   "outputs": [
    {
     "name": "stdout",
     "output_type": "stream",
     "text": [
      "\n",
      "Información del dataset:\n",
      "<class 'pandas.core.frame.DataFrame'>\n",
      "RangeIndex: 14999 entries, 0 to 14998\n",
      "Data columns (total 10 columns):\n",
      " #   Column                 Non-Null Count  Dtype  \n",
      "---  ------                 --------------  -----  \n",
      " 0   satisfaction_level     14999 non-null  float64\n",
      " 1   last_evaluation        14999 non-null  float64\n",
      " 2   number_project         14999 non-null  int64  \n",
      " 3   average_montly_hours   14999 non-null  int64  \n",
      " 4   time_spend_company     14999 non-null  int64  \n",
      " 5   Work_accident          14999 non-null  int64  \n",
      " 6   left                   14999 non-null  int64  \n",
      " 7   promotion_last_5years  14999 non-null  int64  \n",
      " 8   Department             14999 non-null  object \n",
      " 9   salary                 14999 non-null  object \n",
      "dtypes: float64(2), int64(6), object(2)\n",
      "memory usage: 1.1+ MB\n",
      "None\n"
     ]
    }
   ],
   "source": [
    "print(\"\\nInformación del dataset:\")\n",
    "print(df.info())"
   ]
  },
  {
   "cell_type": "code",
   "execution_count": 20,
   "id": "b9035e85-95e7-4bba-b1d3-4050c0b16cba",
   "metadata": {},
   "outputs": [
    {
     "name": "stdout",
     "output_type": "stream",
     "text": [
      "\n",
      "Valores únicos en la variable objetivo (left):\n",
      "left\n",
      "0    11428\n",
      "1     3571\n",
      "Name: count, dtype: int64\n"
     ]
    }
   ],
   "source": [
    "# Revisar valores únicos en la variable objetivo\n",
    "print(\"\\nValores únicos en la variable objetivo (left):\")\n",
    "print(df['left'].value_counts())\n"
   ]
  },
  {
   "cell_type": "code",
   "execution_count": 15,
   "id": "146a4763-387d-4543-8309-baa6cd47fe98",
   "metadata": {},
   "outputs": [
    {
     "name": "stdout",
     "output_type": "stream",
     "text": [
      "Tipos de datos en el dataset:\n",
      "satisfaction_level       float64\n",
      "last_evaluation          float64\n",
      "number_project             int64\n",
      "average_montly_hours       int64\n",
      "time_spend_company         int64\n",
      "Work_accident              int64\n",
      "left                       int64\n",
      "promotion_last_5years      int64\n",
      "Department                object\n",
      "salary                    object\n",
      "dtype: object\n"
     ]
    }
   ],
   "source": [
    "# Ver tipos de datos y asegurarse de que las variables categóricas están bien identificadas\n",
    "print(\"Tipos de datos en el dataset:\")\n",
    "print(df.dtypes)\n"
   ]
  },
  {
   "cell_type": "code",
   "execution_count": null,
   "id": "86f193cf-09bd-4f4e-acc6-789437f676c7",
   "metadata": {},
   "outputs": [],
   "source": []
  },
  {
   "cell_type": "markdown",
   "id": "3927567f-4187-4ffe-87b7-de7c51680bab",
   "metadata": {},
   "source": [
    "### 2. Exploración y Limpieza de Datos (EDA) 🧐\n",
    "\n",
    "### 📌 Objetivo  \n",
    "Entender la estructura de los datos, identificar patrones y preparar el dataset para el análisis y la construcción de modelos predictivos.\n",
    "\n",
    "### 🚀 Acciones  \n",
    "#### 📊 Estadísticas Descriptivas  \n",
    "Analizaremos las principales medidas estadísticas para variables numéricas:  \n",
    "- **Media**: Promedio de los valores para entender tendencias generales.  \n",
    "- **Mediana**: Punto central de la distribución, útil cuando existen valores extremos.  \n",
    "- **Desviación estándar**: Grado de variabilidad de los datos, indicando qué tan dispersos están respecto a la media.  \n",
    "- **Distribución y rangos**: Valores mínimos, máximos y percentiles para evaluar la dispersión de los datos.  \n",
    "\n",
    "#### 🔍 Detección de Valores Nulos  \n",
    "Identificaremos posibles datos faltantes y analizaremos su impacto en el dataset. Se tomarán decisiones sobre imputación o eliminación si es necesario.  \n",
    "\n",
    "#### 🚫 Identificación de Valores Atípicos  \n",
    "Exploraremos la presencia de valores anómalos mediante boxplots y otras técnicas de detección.  \n",
    "\n",
    "#### 🎭 Análisis de Variables Categóricas  \n",
    "Revisaremos la distribución de datos categóricos, contando sus frecuencias y analizando la cardinalidad de las categorías.  \n",
    "\n",
    "#### 🔄 Normalización y Transformaciones  \n",
    "Si es necesario, aplicaremos escalado o transformación de datos para mejorar la calidad del análisis y el rendimiento de los modelos.  \n",
    "\n",
    "---\n",
    "\n",
    "El EDA permitirá obtener una visión completa del dataset para tomar decisiones acertadas para la preparación de datos. ¡Comienzo con la exploración! 🚀📊  \n"
   ]
  },
  {
   "cell_type": "markdown",
   "id": "d04f4f8e-7f1c-4c72-b122-ff02f452924c",
   "metadata": {},
   "source": [
    "# 📖 Diccionario de Datos  \n",
    "\n",
    "Este proyecto utiliza un dataset llamado **HR_capstone_dataset.csv**, que contiene información autoinformada de empleados en una corporación multinacional ficticia dedicada a la fabricación de vehículos.  \n",
    "\n",
    "## 📌 Estructura del Dataset  \n",
    "El dataset consta de:  \n",
    "- **14,999 filas** → Cada fila representa un empleado único.  \n",
    "- **10 columnas** → Variables con características clave sobre cada empleado.  \n",
    "\n",
    "### 📊 **Descripción de las Variables**  \n",
    "\n",
    "| **Columna**            | **Tipo**  | **Descripción** |\n",
    "|------------------------|----------|-----------------------------------------------|\n",
    "| satisfaction_level     | `int64`  | Nivel de satisfacción del empleado [0-1] |\n",
    "| last_evaluation       | `int64`  | Puntaje de la última evaluación de desempeño [0-1] |\n",
    "| number_project        | `int64`  | Número de proyectos en los que participa el empleado |\n",
    "| average_monthly_hours | `int64`  | Promedio de horas trabajadas por mes |\n",
    "| time_spend_company    | `int64`  | Años de experiencia en la compañía |\n",
    "| work_accident        | `int64`  | Si el empleado ha sufrido un accidente laboral (0 = No, 1 = Sí) |\n",
    "| left                 | `int64`  | Si el empleado ha dejado la compañía (0 = No, 1 = Sí) |\n",
    "| promotion_last_5years | `int64`  | Si el empleado ha sido promovido en los últimos 5 años (0 = No, 1 = Sí) |\n",
    "| department           | `str`    | Departamento donde trabaja el empleado |\n",
    "| salary              | `str`    | Nivel de salario: `low`, `medium`, `high` |\n",
    "\n",
    "---\n",
    "\n",
    "Esta sección servirá como referencia antes de analizar los histogramas y distribuciones de datos en el **EDA**, permitiendo interpretar mejor la relación entre las variables.  \n",
    "\n",
    "📊 **Ahora que ya tenemos la estructura del dataset clara, podemos proceder con el análisis visual!** 🚀  \n"
   ]
  },
  {
   "cell_type": "code",
   "execution_count": 16,
   "id": "7d94719c-6f27-4cc5-9f3a-cf6631656967",
   "metadata": {},
   "outputs": [
    {
     "name": "stdout",
     "output_type": "stream",
     "text": [
      "Estadísticas descriptivas:\n",
      "       satisfaction_level  last_evaluation  number_project  \\\n",
      "count        14999.000000     14999.000000    14999.000000   \n",
      "mean             0.612834         0.716102        3.803054   \n",
      "std              0.248631         0.171169        1.232592   \n",
      "min              0.090000         0.360000        2.000000   \n",
      "25%              0.440000         0.560000        3.000000   \n",
      "50%              0.640000         0.720000        4.000000   \n",
      "75%              0.820000         0.870000        5.000000   \n",
      "max              1.000000         1.000000        7.000000   \n",
      "\n",
      "       average_montly_hours  time_spend_company  Work_accident          left  \\\n",
      "count          14999.000000        14999.000000   14999.000000  14999.000000   \n",
      "mean             201.050337            3.498233       0.144610      0.238083   \n",
      "std               49.943099            1.460136       0.351719      0.425924   \n",
      "min               96.000000            2.000000       0.000000      0.000000   \n",
      "25%              156.000000            3.000000       0.000000      0.000000   \n",
      "50%              200.000000            3.000000       0.000000      0.000000   \n",
      "75%              245.000000            4.000000       0.000000      0.000000   \n",
      "max              310.000000           10.000000       1.000000      1.000000   \n",
      "\n",
      "       promotion_last_5years  \n",
      "count           14999.000000  \n",
      "mean                0.021268  \n",
      "std                 0.144281  \n",
      "min                 0.000000  \n",
      "25%                 0.000000  \n",
      "50%                 0.000000  \n",
      "75%                 0.000000  \n",
      "max                 1.000000  \n"
     ]
    }
   ],
   "source": [
    "print(\"Estadísticas descriptivas:\")\n",
    "print(df.describe())"
   ]
  },
  {
   "cell_type": "code",
   "execution_count": 19,
   "id": "511bda1a-f0b1-4cdf-aa25-b8d1306af742",
   "metadata": {},
   "outputs": [
    {
     "data": {
      "image/png": "[encoded data removed]",
      "text/plain": [
       "<Figure size 1200x800 with 9 Axes>"
      ]
     },
     "metadata": {},
     "output_type": "display_data"
    }
   ],
   "source": [
    "import matplotlib.pyplot as plt  # Importar matplotlib\n",
    "\n",
    "# Histograma para ver la distribución de cada variable numérica\n",
    "df.hist(figsize=(12,8), bins=30)\n",
    "plt.show()  \n"
   ]
  },
  {
   "cell_type": "code",
   "execution_count": null,
   "id": "311aa472-0de2-408f-ac6b-ee07123b81fc",
   "metadata": {},
   "outputs": [],
   "source": []
  }
 ],
 "metadata": {
  "kernelspec": {
   "display_name": "Python 3 (ipykernel)",
   "language": "python",
   "name": "python3"
  },
  "language_info": {
   "codemirror_mode": {
    "name": "ipython",
    "version": 3
   },
   "file_extension": ".py",
   "mimetype": "text/x-python",
   "name": "python",
   "nbconvert_exporter": "python",
   "pygments_lexer": "ipython3",
   "version": "3.11.8"
  }
 },
 "nbformat": 4,
 "nbformat_minor": 5
}
