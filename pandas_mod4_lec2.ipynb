{
 "cells": [
  {
   "cell_type": "code",
   "execution_count": 1,
   "id": "553c6aef-4c7c-40dc-8302-32a17a572539",
   "metadata": {},
   "outputs": [
    {
     "name": "stdout",
     "output_type": "stream",
     "text": [
      "DataFrame Original:\n",
      "    Nombre  Edad  Salario\n",
      "0      Ana    23    50000\n",
      "1   Carlos    35    55000\n",
      "2  Beatriz    45    60000\n",
      "3   Daniel    28    52000\n",
      "\n",
      "Edad Promedio: 32.75\n",
      "\n",
      "Empleados con Salario Mayor a 55000:\n",
      "    Nombre  Edad  Salario\n",
      "2  Beatriz    45    60000\n",
      "\n",
      "DataFrame con Columna de Impuesto:\n",
      "    Nombre  Edad  Salario  Impuesto\n",
      "0      Ana    23    50000    5000.0\n",
      "1   Carlos    35    55000    5500.0\n",
      "2  Beatriz    45    60000    6000.0\n",
      "3   Daniel    28    52000    5200.0\n"
     ]
    }
   ],
   "source": [
    "import pandas as pd\n",
    "\n",
    "# Crear un DataFrame a partir de un diccionario\n",
    "data = {\n",
    "    'Nombre': ['Ana', 'Carlos', 'Beatriz', 'Daniel'],\n",
    "    'Edad': [23, 35, 45, 28],\n",
    "    'Salario': [50000, 55000, 60000, 52000]\n",
    "}\n",
    "\n",
    "df = pd.DataFrame(data)\n",
    "\n",
    "# Imprimir el DataFrame original\n",
    "print(\"DataFrame Original:\")\n",
    "print(df)\n",
    "\n",
    "# Calcular la edad promedio\n",
    "edad_promedio = df['Edad'].mean()\n",
    "print(\"\\nEdad Promedio:\", edad_promedio)\n",
    "\n",
    "# Filtrar empleados con salario mayor a 55000\n",
    "salario_mayor_55000 = df[df['Salario'] > 55000]\n",
    "print(\"\\nEmpleados con Salario Mayor a 55000:\")\n",
    "print(salario_mayor_55000)\n",
    "\n",
    "# Añadir una nueva columna con el impuesto (10% del salario)\n",
    "df['Impuesto'] = df['Salario'] * 0.10\n",
    "print(\"\\nDataFrame con Columna de Impuesto:\")\n",
    "print(df)\n"
   ]
  },
  {
   "cell_type": "code",
   "execution_count": null,
   "id": "60452376-d09f-44c1-ac6c-4c17c477de30",
   "metadata": {},
   "outputs": [],
   "source": []
  }
 ],
 "metadata": {
  "kernelspec": {
   "display_name": "Python 3 (ipykernel)",
   "language": "python",
   "name": "python3"
  },
  "language_info": {
   "codemirror_mode": {
    "name": "ipython",
    "version": 3
   },
   "file_extension": ".py",
   "mimetype": "text/x-python",
   "name": "python",
   "nbconvert_exporter": "python",
   "pygments_lexer": "ipython3",
   "version": "3.11.8"
  }
 },
 "nbformat": 4,
 "nbformat_minor": 5
}
